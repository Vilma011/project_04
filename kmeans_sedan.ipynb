{
 "cells": [
  {
   "cell_type": "code",
   "execution_count": 3,
   "id": "a04d8e80",
   "metadata": {},
   "outputs": [
    {
     "data": {
      "text/plain": [
       "'c:\\\\Users\\\\vicky\\\\Downloads\\\\project_04-main\\\\project_04-main\\\\depreciated_ipynb'"
      ]
     },
     "execution_count": 3,
     "metadata": {},
     "output_type": "execute_result"
    }
   ],
   "source": [
    "import pandas as pd\n",
    "from os import getcwd\n",
    "\n",
    "import numpy as np\n",
    "from sklearn.manifold import TSNE\n",
    "from sklearn.decomposition import PCA\n",
    "from sklearn.preprocessing import StandardScaler\n",
    "\n",
    "from sklearn.cluster import KMeans\n",
    "\n",
    "\n",
    "import matplotlib.pyplot as plt \n",
    "\n",
    "getcwd()"
   ]
  },
  {
   "cell_type": "markdown",
   "id": "7ccaf8d9",
   "metadata": {},
   "source": [
    "# Clean the data"
   ]
  },
  {
   "cell_type": "markdown",
   "id": "7f80e780",
   "metadata": {},
   "source": [
    "-----"
   ]
  },
  {
   "cell_type": "code",
   "execution_count": null,
   "id": "d33f385b",
   "metadata": {},
   "outputs": [],
   "source": [
    "df = pd.read_csv('cleaned_sedan_data.csv')\n",
    "\n",
    "df.head()"
   ]
  },
  {
   "cell_type": "code",
   "execution_count": null,
   "id": "a3e75f37",
   "metadata": {
    "scrolled": true
   },
   "outputs": [],
   "source": [
    "df.info()"
   ]
  },
  {
   "cell_type": "code",
   "execution_count": null,
   "id": "dededaf2",
   "metadata": {},
   "outputs": [],
   "source": [
    "# Find null values\n",
    "for column in df.columns:\n",
    "    print(f\"Column - {column} has - {df[column].isnull().sum()} - null values\")"
   ]
  },
  {
   "cell_type": "code",
   "execution_count": null,
   "id": "cd3dcf9f",
   "metadata": {
    "scrolled": true
   },
   "outputs": [],
   "source": [
    "df.count()"
   ]
  },
  {
   "cell_type": "code",
   "execution_count": null,
   "id": "82d6d214",
   "metadata": {},
   "outputs": [],
   "source": [
    "df.columns"
   ]
  },
  {
   "cell_type": "code",
   "execution_count": null,
   "id": "ad1504a5",
   "metadata": {},
   "outputs": [],
   "source": [
    "df = df.drop(columns=['vf_EngineCylinders','vf_EngineHP','vf_BodyCabType', 'vin','msrp','vf_Doors','vf_FuelTypePrimary','vf_TransmissionStyle','color'])"
   ]
  },
  {
   "cell_type": "code",
   "execution_count": null,
   "id": "0b58dc59",
   "metadata": {
    "scrolled": true
   },
   "outputs": [],
   "source": [
    "# Find null values\n",
    "for column in df.columns:\n",
    "    print(f\"Column - {column} has {df[column].isnull().sum()} null values\")"
   ]
  },
  {
   "cell_type": "code",
   "execution_count": null,
   "id": "271a62ee",
   "metadata": {},
   "outputs": [],
   "source": [
    "df = df.dropna(how='any')"
   ]
  },
  {
   "cell_type": "code",
   "execution_count": null,
   "id": "16ffc202",
   "metadata": {},
   "outputs": [],
   "source": [
    "old_list = df.columns.to_list()\n",
    "\n",
    "new_list =[]\n",
    "\n",
    "for i, column in enumerate(old_list):\n",
    "    words = column.split('_')\n",
    "    keep = words[-1]\n",
    "    keep = keep.lower()\n",
    "    new_list.append(keep)"
   ]
  },
  {
   "cell_type": "code",
   "execution_count": null,
   "id": "fc912d66",
   "metadata": {},
   "outputs": [],
   "source": [
    "df = df.rename(columns={\n",
    " 'vf_BodyClass':'bodyclass',\n",
    " 'vf_Make':'make',\n",
    " 'vf_Model':'model',\n",
    " 'vf_ModelID':'modelid',\n",
    " 'vf_ModelYear':'modelyear',\n",
    " 'mileage':'mileage',\n",
    " 'color':'color',\n",
    " 'vf_Doors':'doors',\n",
    " 'vf_EngineHP':'enginehp',\n",
    " 'vf_FuelTypePrimary':'fueltypeprimary',\n",
    " 'vf_TransmissionStyle':'transmissionstyle',\n",
    "})"
   ]
  },
  {
   "cell_type": "code",
   "execution_count": null,
   "id": "da7c6dc2",
   "metadata": {},
   "outputs": [],
   "source": [
    "df = df.reset_index()"
   ]
  },
  {
   "cell_type": "code",
   "execution_count": null,
   "id": "23895278",
   "metadata": {},
   "outputs": [],
   "source": [
    "df.count()"
   ]
  },
  {
   "cell_type": "code",
   "execution_count": null,
   "id": "412da4a0",
   "metadata": {},
   "outputs": [],
   "source": [
    "df = df.loc[df['askPrice'] != 0]"
   ]
  },
  {
   "cell_type": "code",
   "execution_count": null,
   "id": "887e583b",
   "metadata": {},
   "outputs": [],
   "source": [
    "df.count()"
   ]
  },
  {
   "cell_type": "code",
   "execution_count": null,
   "id": "5fb640c1",
   "metadata": {
    "scrolled": true
   },
   "outputs": [],
   "source": [
    "df.head()"
   ]
  },
  {
   "cell_type": "markdown",
   "id": "d8442aa5",
   "metadata": {},
   "source": [
    "--------"
   ]
  },
  {
   "cell_type": "markdown",
   "id": "760f658a",
   "metadata": {},
   "source": [
    "# Data Testing"
   ]
  },
  {
   "cell_type": "markdown",
   "id": "3ddbf397",
   "metadata": {},
   "source": [
    "--------------"
   ]
  },
  {
   "cell_type": "code",
   "execution_count": null,
   "id": "f0d8234e",
   "metadata": {},
   "outputs": [],
   "source": [
    "# trim data into sample\n",
    "df_sample = df.sample(n=10000, random_state=42)\n",
    "df_sample.reset_index(inplace=True)"
   ]
  },
  {
   "cell_type": "code",
   "execution_count": null,
   "id": "a169b396",
   "metadata": {},
   "outputs": [],
   "source": [
    "# convert text to numerical with dummy columns\n",
    "X_dummies = pd.get_dummies(\n",
    "    data = df_sample, columns = [\n",
    "        'bodyclass',\n",
    "        'make',\n",
    "        'model',\n",
    "        ])\n",
    "\n",
    "X_dummies.shape"
   ]
  },
  {
   "cell_type": "code",
   "execution_count": null,
   "id": "4daaa019",
   "metadata": {},
   "outputs": [],
   "source": [
    "# scale the data to lessen bias\n",
    "scaler = StandardScaler()\n",
    "X_scaled = scaler.fit_transform(X_dummies)\n",
    "X_scaled.shape"
   ]
  },
  {
   "cell_type": "code",
   "execution_count": null,
   "id": "5606c336",
   "metadata": {},
   "outputs": [],
   "source": [
    "# dimensionality reduction using PCA\n",
    "pca = PCA(n_components=.9)\n",
    "components = pca.fit_transform(X_scaled)\n",
    "components.shape"
   ]
  },
  {
   "cell_type": "code",
   "execution_count": null,
   "id": "5ecbd428",
   "metadata": {},
   "outputs": [],
   "source": [
    "# dimensionality reduction using t-SNE\n",
    "X_embedded = TSNE(perplexity=50).fit_transform(components)\n",
    "X_embedded.shape"
   ]
  },
  {
   "cell_type": "code",
   "execution_count": null,
   "id": "19d02d20",
   "metadata": {},
   "outputs": [],
   "source": [
    "# plot the initial Kmeans cluster diagram\n",
    "fig = plt.figure(figsize = (19.20,10.80))\n",
    "\n",
    "plt.scatter(X_embedded[:,0],X_embedded[:,1])\n",
    "plt.grid()\n",
    "plt.show()"
   ]
  },
  {
   "cell_type": "code",
   "execution_count": null,
   "id": "ee063595",
   "metadata": {},
   "outputs": [],
   "source": [
    "inertia = []\n",
    "k = list(range(1, 11))\n",
    "\n",
    "# Calculate the inertia for the range of k values\n",
    "for i in k:\n",
    "    km = KMeans(n_clusters=i, random_state=0)\n",
    "    km.fit(X_embedded)\n",
    "    inertia.append(km.inertia_)\n",
    "\n",
    "# Create the Elbow Curve using hvPlot\n",
    "elbow_data = {\"k\": k, \"inertia\": inertia}\n",
    "df_elbow = pd.DataFrame(elbow_data)\n",
    "df_elbow"
   ]
  },
  {
   "cell_type": "code",
   "execution_count": null,
   "id": "f880e99f",
   "metadata": {},
   "outputs": [],
   "source": [
    "# Plot the elbow curve to find the best candidate(s) for k\n",
    "\n",
    "fig = plt.figure(figsize = (19.20,10.80))\n",
    "\n",
    "plt.plot(df_elbow['k'], df_elbow['inertia'])\n",
    "plt.xticks(range(1,11))\n",
    "plt.xlabel('Number of clusters')\n",
    "plt.ylabel('Inertia')\n",
    "plt.title('Elbow curve')\n",
    "plt.grid()\n",
    "plt.show()"
   ]
  },
  {
   "cell_type": "code",
   "execution_count": null,
   "id": "bc87c3e4",
   "metadata": {},
   "outputs": [],
   "source": [
    "def get_clusters(k, data):\n",
    "    # Initialize the K-Means model\n",
    "    model = KMeans(n_clusters=k, random_state=0)\n",
    "\n",
    "    # Train the model\n",
    "    model.fit(data)\n",
    "\n",
    "    # Predict clusters\n",
    "    predictions = model.predict(data)\n",
    "\n",
    "    # Create return DataFrame with predicted clusters\n",
    "    data[\"class\"] = model.labels_\n",
    "\n",
    "    return data"
   ]
  },
  {
   "cell_type": "code",
   "execution_count": null,
   "id": "766d4cb7",
   "metadata": {},
   "outputs": [],
   "source": [
    "# transform embedded array into df for clustering purposes\n",
    "cluster_df = pd.DataFrame(X_embedded, columns=['col_1','col_2'])"
   ]
  },
  {
   "cell_type": "code",
   "execution_count": null,
   "id": "52c6d15a",
   "metadata": {},
   "outputs": [],
   "source": [
    "# display the cluster df\n",
    "cluster_df"
   ]
  },
  {
   "cell_type": "code",
   "execution_count": null,
   "id": "9845bd46",
   "metadata": {},
   "outputs": [],
   "source": [
    "# after plotting the inertia of the K-means cluster data, 4 clusters was determined to be the best\n",
    "clusters = get_clusters(4, cluster_df) \n"
   ]
  },
  {
   "cell_type": "code",
   "execution_count": null,
   "id": "d717a947",
   "metadata": {},
   "outputs": [],
   "source": [
    "def show_clusters(df):\n",
    "    fig = plt.figure(figsize = (19.20,10.80))\n",
    "\n",
    "    plt.scatter(df['col_1'], df['col_2'], c=df['class'])\n",
    "    plt.xlabel('col_1')\n",
    "    plt.ylabel('col_2')\n",
    "    plt.grid()\n",
    "    plt.show()"
   ]
  },
  {
   "cell_type": "code",
   "execution_count": null,
   "id": "b075d2f0",
   "metadata": {},
   "outputs": [],
   "source": [
    "show_clusters(clusters)\n"
   ]
  },
  {
   "cell_type": "code",
   "execution_count": null,
   "id": "bc8c1174",
   "metadata": {},
   "outputs": [],
   "source": [
    "model = KMeans(n_clusters=4, random_state=0)\n",
    "\n",
    "# Train the model\n",
    "model.fit(cluster_df)\n",
    "\n",
    "# Predict clusters\n",
    "predictions = model.predict(cluster_df)\n",
    "\n",
    "# Create return DataFrame with predicted clusters\n",
    "cluster_df[\"class\"] = model.labels_"
   ]
  },
  {
   "cell_type": "code",
   "execution_count": null,
   "id": "e1063991",
   "metadata": {
    "scrolled": true
   },
   "outputs": [],
   "source": [
    "clusters"
   ]
  },
  {
   "cell_type": "code",
   "execution_count": null,
   "id": "a2074de6",
   "metadata": {},
   "outputs": [],
   "source": [
    "df_sample['class'] = clusters['class']"
   ]
  },
  {
   "cell_type": "code",
   "execution_count": null,
   "id": "6ae1c063",
   "metadata": {},
   "outputs": [],
   "source": [
    "df_sample"
   ]
  },
  {
   "cell_type": "code",
   "execution_count": null,
   "id": "24851b43",
   "metadata": {},
   "outputs": [],
   "source": []
  }
 ],
 "metadata": {
  "kernelspec": {
   "display_name": "Python 3",
   "language": "python",
   "name": "python3"
  },
  "language_info": {
   "codemirror_mode": {
    "name": "ipython",
    "version": 3
   },
   "file_extension": ".py",
   "mimetype": "text/x-python",
   "name": "python",
   "nbconvert_exporter": "python",
   "pygments_lexer": "ipython3",
   "version": "3.8.12"
  }
 },
 "nbformat": 4,
 "nbformat_minor": 5
}
