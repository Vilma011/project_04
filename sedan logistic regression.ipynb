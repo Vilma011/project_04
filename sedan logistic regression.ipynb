{
 "cells": [
  {
   "cell_type": "code",
   "execution_count": 3,
   "id": "c6e66aad",
   "metadata": {},
   "outputs": [],
   "source": [
    "# Import dependencies\n",
    "import matplotlib.pyplot as plt\n",
    "import pandas as pd\n"
   ]
  },
  {
   "cell_type": "code",
   "execution_count": null,
   "id": "e3d26356",
   "metadata": {},
   "outputs": [],
   "source": [
    "df = pd.read_csv('cleaned_sedan_data.csv')\n",
    "df"
   ]
  },
  {
   "cell_type": "code",
   "execution_count": null,
   "id": "6ccc39c4",
   "metadata": {},
   "outputs": [],
   "source": [
    "df = df.rename(columns={\n",
    " 'vf_BodyClass': 'BodyClass',\n",
    " 'vf_Make': 'Make',\n",
    " 'vf_Model': 'Model',\n",
    " 'vf_ModelID': 'ModelID',\n",
    " 'vf_ModelYear': 'ModelYear',\n",
    " 'mileage': 'mileage',\n",
    " 'askPrice': 'askprice',\n",
    " 'msrp': 'msrp',\n",
    " 'color': 'color',\n",
    " 'vf_BodyCabType': 'BodyCabType',\n",
    " 'vf_Doors': 'Doors',\n",
    " 'vf_EngineCylinders': 'EngineCylinders',\n",
    " 'vf_EngineHP': 'EngineHP',\n",
    " 'vf_FuelTypePrimary': 'FuelTypePrimary',\n",
    " 'vf_TransmissionStyle': 'TransmissionStyle',\n",
    " 'vin': 'vin',\n",
    "})\n",
    "df.head()"
   ]
  },
  {
   "cell_type": "code",
   "execution_count": null,
   "id": "fcccc412",
   "metadata": {},
   "outputs": [],
   "source": [
    "df = df.loc[df['askprice'] != 0]"
   ]
  },
  {
   "cell_type": "code",
   "execution_count": null,
   "id": "639d370a",
   "metadata": {},
   "outputs": [],
   "source": [
    "df.info()"
   ]
  },
  {
   "cell_type": "code",
   "execution_count": null,
   "id": "c6acbf0a",
   "metadata": {},
   "outputs": [],
   "source": [
    "df = df.drop(columns=['EngineHP',\n",
    "                      'vin',\n",
    "                      'color',\n",
    "                      'Make',\n",
    "                      'Model',\n",
    "                      'Doors',\n",
    "                      'EngineCylinders',\n",
    "                      'FuelTypePrimary',\n",
    "                     ])"
   ]
  },
  {
   "cell_type": "code",
   "execution_count": null,
   "id": "2427a083",
   "metadata": {},
   "outputs": [],
   "source": [
    "df = df.dropna(how='any')"
   ]
  },
  {
   "cell_type": "code",
   "execution_count": null,
   "id": "0af90d45",
   "metadata": {},
   "outputs": [],
   "source": [
    "df.info()"
   ]
  },
  {
   "cell_type": "code",
   "execution_count": null,
   "id": "7b0e88a1",
   "metadata": {},
   "outputs": [],
   "source": [
    "df = df.drop(columns=['msrp','BodyClass','BodyCabType','TransmissionStyle'])"
   ]
  },
  {
   "cell_type": "code",
   "execution_count": null,
   "id": "d586f81d",
   "metadata": {},
   "outputs": [],
   "source": [
    "df = df.sample(n=10000, random_state=12)"
   ]
  },
  {
   "cell_type": "code",
   "execution_count": null,
   "id": "f6e67388",
   "metadata": {},
   "outputs": [],
   "source": [
    "X = df.drop(columns=['askprice'])\n",
    "y = df['askprice']"
   ]
  },
  {
   "cell_type": "code",
   "execution_count": null,
   "id": "75d876d9",
   "metadata": {},
   "outputs": [],
   "source": [
    "from sklearn.model_selection import train_test_split\n",
    "\n",
    "X_train, X_test, y_train, y_test = train_test_split(X, y, random_state=78) "
   ]
  },
  {
   "cell_type": "code",
   "execution_count": null,
   "id": "cededaff",
   "metadata": {},
   "outputs": [],
   "source": [
    "from sklearn.linear_model import LogisticRegression\n",
    "classifier = LogisticRegression(solver='lbfgs', random_state=1)\n",
    "\n",
    "# Define the logistic regression model\n",
    "log_classifier = LogisticRegression(solver=\"lbfgs\",max_iter=200)\n",
    "\n",
    "# Train the model\n",
    "log_classifier.fit(X_train,y_train)"
   ]
  },
  {
   "cell_type": "code",
   "execution_count": null,
   "id": "15b3e063",
   "metadata": {},
   "outputs": [],
   "source": [
    " from sklearn.metrics import accuracy_score\n",
    "y_pred = log_classifier.predict(X_test)\n",
    "print(f\" Logistic regression model accuracy: {accuracy_score(y_test,y_pred):.3f}\")"
   ]
  },
  {
   "cell_type": "code",
   "execution_count": null,
   "id": "722d35ea",
   "metadata": {},
   "outputs": [],
   "source": []
  }
 ],
 "metadata": {
  "kernelspec": {
   "display_name": "Python 3",
   "language": "python",
   "name": "python3"
  },
  "language_info": {
   "codemirror_mode": {
    "name": "ipython",
    "version": 3
   },
   "file_extension": ".py",
   "mimetype": "text/x-python",
   "name": "python",
   "nbconvert_exporter": "python",
   "pygments_lexer": "ipython3",
   "version": "3.8.12"
  }
 },
 "nbformat": 4,
 "nbformat_minor": 5
}
