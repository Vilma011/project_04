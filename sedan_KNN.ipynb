{
 "cells": [
  {
   "cell_type": "code",
   "execution_count": 1,
   "id": "0249bde5",
   "metadata": {},
   "outputs": [
    {
     "data": {
      "text/plain": [
       "'c:\\\\Users\\\\vicky\\\\Downloads\\\\project_04-main\\\\project_04-main\\\\depreciated_ipynb'"
      ]
     },
     "execution_count": 1,
     "metadata": {},
     "output_type": "execute_result"
    }
   ],
   "source": [
    "import numpy as np\n",
    "import pandas as pd\n",
    "from os import getcwd\n",
    "import matplotlib.pyplot as plt\n",
    "\n",
    "from sklearn.model_selection import train_test_split\n",
    "from sklearn.neighbors import KNeighborsClassifier\n",
    "\n",
    "from sklearn.linear_model import LogisticRegression, Lasso\n",
    "from sklearn.ensemble import RandomForestClassifier\n",
    "from sklearn.preprocessing import StandardScaler,MinMaxScaler\n",
    "\n",
    "getcwd()"
   ]
  },
  {
   "cell_type": "code",
   "execution_count": 2,
   "id": "1548fdf9",
   "metadata": {},
   "outputs": [],
   "source": [
    "df = pd.read_csv('cleaned_sedan_data.csv')"
   ]
  },
  {
   "cell_type": "code",
   "execution_count": 3,
   "id": "3f6fd564",
   "metadata": {},
   "outputs": [
    {
     "data": {
      "text/html": [
       "<div>\n",
       "<style scoped>\n",
       "    .dataframe tbody tr th:only-of-type {\n",
       "        vertical-align: middle;\n",
       "    }\n",
       "\n",
       "    .dataframe tbody tr th {\n",
       "        vertical-align: top;\n",
       "    }\n",
       "\n",
       "    .dataframe thead th {\n",
       "        text-align: right;\n",
       "    }\n",
       "</style>\n",
       "<table border=\"1\" class=\"dataframe\">\n",
       "  <thead>\n",
       "    <tr style=\"text-align: right;\">\n",
       "      <th></th>\n",
       "      <th>vf_BodyClass</th>\n",
       "      <th>vf_Make</th>\n",
       "      <th>vf_Model</th>\n",
       "      <th>vf_ModelID</th>\n",
       "      <th>vf_ModelYear</th>\n",
       "      <th>mileage</th>\n",
       "      <th>askPrice</th>\n",
       "      <th>msrp</th>\n",
       "      <th>color</th>\n",
       "      <th>vf_BodyCabType</th>\n",
       "      <th>vf_Doors</th>\n",
       "      <th>vf_EngineCylinders</th>\n",
       "      <th>vf_EngineHP</th>\n",
       "      <th>vf_FuelTypePrimary</th>\n",
       "      <th>vf_TransmissionStyle</th>\n",
       "      <th>vin</th>\n",
       "    </tr>\n",
       "  </thead>\n",
       "  <tbody>\n",
       "    <tr>\n",
       "      <th>0</th>\n",
       "      <td>Sedan/Saloon</td>\n",
       "      <td>HONDA</td>\n",
       "      <td>Accord</td>\n",
       "      <td>1861.0</td>\n",
       "      <td>2011.0</td>\n",
       "      <td>66253</td>\n",
       "      <td>0</td>\n",
       "      <td>0</td>\n",
       "      <td>Dark Amber Metallic</td>\n",
       "      <td>Not Applicable</td>\n",
       "      <td>4.0</td>\n",
       "      <td>4.0</td>\n",
       "      <td>177.0</td>\n",
       "      <td>Gasoline</td>\n",
       "      <td>Automatic</td>\n",
       "      <td>17db7a4f0262c5312dbc4f00c126e02dcaac8a17f81a6d...</td>\n",
       "    </tr>\n",
       "    <tr>\n",
       "      <th>1</th>\n",
       "      <td>Sedan/Saloon</td>\n",
       "      <td>HONDA</td>\n",
       "      <td>Civic</td>\n",
       "      <td>1863.0</td>\n",
       "      <td>2014.0</td>\n",
       "      <td>81493</td>\n",
       "      <td>0</td>\n",
       "      <td>0</td>\n",
       "      <td>Black</td>\n",
       "      <td>Not Applicable</td>\n",
       "      <td>4.0</td>\n",
       "      <td>4.0</td>\n",
       "      <td>205.0</td>\n",
       "      <td>Gasoline</td>\n",
       "      <td>Manual/Standard</td>\n",
       "      <td>a9a44eb9d5b82470cdf9692f33597cf8b2d33868a0a537...</td>\n",
       "    </tr>\n",
       "    <tr>\n",
       "      <th>2</th>\n",
       "      <td>Sedan/Saloon</td>\n",
       "      <td>CHEVROLET</td>\n",
       "      <td>Malibu</td>\n",
       "      <td>1834.0</td>\n",
       "      <td>2012.0</td>\n",
       "      <td>79232</td>\n",
       "      <td>0</td>\n",
       "      <td>0</td>\n",
       "      <td>Black Granite Metallic</td>\n",
       "      <td>Not Applicable</td>\n",
       "      <td>4.0</td>\n",
       "      <td>4.0</td>\n",
       "      <td>NaN</td>\n",
       "      <td>Gasoline</td>\n",
       "      <td>Automatic</td>\n",
       "      <td>4a402fc8181916a7fdddeb00509bbd14a278d29265b046...</td>\n",
       "    </tr>\n",
       "    <tr>\n",
       "      <th>3</th>\n",
       "      <td>Sedan/Saloon</td>\n",
       "      <td>CHEVROLET</td>\n",
       "      <td>Malibu</td>\n",
       "      <td>1834.0</td>\n",
       "      <td>2017.0</td>\n",
       "      <td>23056</td>\n",
       "      <td>0</td>\n",
       "      <td>0</td>\n",
       "      <td>Cajun Red Tintcoat</td>\n",
       "      <td>Not Applicable</td>\n",
       "      <td>4.0</td>\n",
       "      <td>4.0</td>\n",
       "      <td>NaN</td>\n",
       "      <td>Gasoline</td>\n",
       "      <td>Automatic</td>\n",
       "      <td>88c484edf48234c4e6d824ae18320de19c7bcb00bdecec...</td>\n",
       "    </tr>\n",
       "    <tr>\n",
       "      <th>4</th>\n",
       "      <td>Sedan/Saloon</td>\n",
       "      <td>FORD</td>\n",
       "      <td>Fiesta</td>\n",
       "      <td>3267.0</td>\n",
       "      <td>2015.0</td>\n",
       "      <td>31793</td>\n",
       "      <td>0</td>\n",
       "      <td>0</td>\n",
       "      <td>Tuxedo Black</td>\n",
       "      <td>Not Applicable</td>\n",
       "      <td>4.0</td>\n",
       "      <td>4.0</td>\n",
       "      <td>120.0</td>\n",
       "      <td>Flexible Fuel Vehicle (FFV)</td>\n",
       "      <td>Automatic</td>\n",
       "      <td>c96cfc665d912be3a39b4dc3126faa11dd2f9e589b849c...</td>\n",
       "    </tr>\n",
       "  </tbody>\n",
       "</table>\n",
       "</div>"
      ],
      "text/plain": [
       "   vf_BodyClass    vf_Make vf_Model  vf_ModelID  vf_ModelYear  mileage  \\\n",
       "0  Sedan/Saloon      HONDA   Accord      1861.0        2011.0    66253   \n",
       "1  Sedan/Saloon      HONDA    Civic      1863.0        2014.0    81493   \n",
       "2  Sedan/Saloon  CHEVROLET   Malibu      1834.0        2012.0    79232   \n",
       "3  Sedan/Saloon  CHEVROLET   Malibu      1834.0        2017.0    23056   \n",
       "4  Sedan/Saloon       FORD   Fiesta      3267.0        2015.0    31793   \n",
       "\n",
       "   askPrice  msrp                   color  vf_BodyCabType  vf_Doors  \\\n",
       "0         0     0     Dark Amber Metallic  Not Applicable       4.0   \n",
       "1         0     0                   Black  Not Applicable       4.0   \n",
       "2         0     0  Black Granite Metallic  Not Applicable       4.0   \n",
       "3         0     0      Cajun Red Tintcoat  Not Applicable       4.0   \n",
       "4         0     0            Tuxedo Black  Not Applicable       4.0   \n",
       "\n",
       "   vf_EngineCylinders  vf_EngineHP           vf_FuelTypePrimary  \\\n",
       "0                 4.0        177.0                     Gasoline   \n",
       "1                 4.0        205.0                     Gasoline   \n",
       "2                 4.0          NaN                     Gasoline   \n",
       "3                 4.0          NaN                     Gasoline   \n",
       "4                 4.0        120.0  Flexible Fuel Vehicle (FFV)   \n",
       "\n",
       "  vf_TransmissionStyle                                                vin  \n",
       "0            Automatic  17db7a4f0262c5312dbc4f00c126e02dcaac8a17f81a6d...  \n",
       "1      Manual/Standard  a9a44eb9d5b82470cdf9692f33597cf8b2d33868a0a537...  \n",
       "2            Automatic  4a402fc8181916a7fdddeb00509bbd14a278d29265b046...  \n",
       "3            Automatic  88c484edf48234c4e6d824ae18320de19c7bcb00bdecec...  \n",
       "4            Automatic  c96cfc665d912be3a39b4dc3126faa11dd2f9e589b849c...  "
      ]
     },
     "execution_count": 3,
     "metadata": {},
     "output_type": "execute_result"
    }
   ],
   "source": [
    "df.head()"
   ]
  },
  {
   "cell_type": "code",
   "execution_count": 4,
   "id": "bf939f2f",
   "metadata": {},
   "outputs": [],
   "source": [
    "df = df.rename(columns={\n",
    " 'vf_BodyClass': 'BodyClass',\n",
    " 'vf_Make': 'Make',\n",
    " 'vf_Model': 'Model',\n",
    " 'vf_ModelID': 'ModelID',\n",
    " 'vf_ModelYear': 'ModelYear',\n",
    " 'mileage': 'mileage',\n",
    " 'askPrice': 'askprice',\n",
    " 'msrp': 'msrp',\n",
    " 'color': 'color',\n",
    " 'vf_BodyCabType': 'BodyCabType',\n",
    " 'vf_Doors': 'Doors',\n",
    " 'vf_EngineCylinders': 'EngineCylinders',\n",
    " 'vf_EngineHP': 'EngineHP',\n",
    " 'vf_FuelTypePrimary': 'FuelTypePrimary',\n",
    " 'vf_TransmissionStyle': 'TransmissionStyle',\n",
    " 'vin': 'vin',\n",
    "})"
   ]
  },
  {
   "cell_type": "code",
   "execution_count": 5,
   "id": "85a49895",
   "metadata": {},
   "outputs": [],
   "source": [
    "df = df.loc[df['askprice'] != 0]"
   ]
  },
  {
   "cell_type": "code",
   "execution_count": 6,
   "id": "f3a82470",
   "metadata": {},
   "outputs": [
    {
     "name": "stdout",
     "output_type": "stream",
     "text": [
      "<class 'pandas.core.frame.DataFrame'>\n",
      "Int64Index: 505058 entries, 18 to 613305\n",
      "Data columns (total 16 columns):\n",
      " #   Column             Non-Null Count   Dtype  \n",
      "---  ------             --------------   -----  \n",
      " 0   BodyClass          505058 non-null  object \n",
      " 1   Make               505058 non-null  object \n",
      " 2   Model              504998 non-null  object \n",
      " 3   ModelID            504998 non-null  float64\n",
      " 4   ModelYear          505058 non-null  float64\n",
      " 5   mileage            505058 non-null  int64  \n",
      " 6   askprice           505058 non-null  int64  \n",
      " 7   msrp               505058 non-null  int64  \n",
      " 8   color              490521 non-null  object \n",
      " 9   BodyCabType        504974 non-null  object \n",
      " 10  Doors              503632 non-null  float64\n",
      " 11  EngineCylinders    460464 non-null  float64\n",
      " 12  EngineHP           286070 non-null  float64\n",
      " 13  FuelTypePrimary    505058 non-null  object \n",
      " 14  TransmissionStyle  505058 non-null  object \n",
      " 15  vin                505058 non-null  object \n",
      "dtypes: float64(5), int64(3), object(8)\n",
      "memory usage: 65.5+ MB\n"
     ]
    }
   ],
   "source": [
    "df.info()"
   ]
  },
  {
   "cell_type": "code",
   "execution_count": 8,
   "id": "c96ef739",
   "metadata": {},
   "outputs": [
    {
     "ename": "KeyError",
     "evalue": "\"['EngineHP' 'msrp' 'BodyClass' 'vin' 'BodyCabType' 'color'\\n 'TransmissionStyle' 'Make' 'Model' 'Doors' 'EngineCylinders'\\n 'FuelTypePrimary'] not found in axis\"",
     "output_type": "error",
     "traceback": [
      "\u001b[1;31m---------------------------------------------------------------------------\u001b[0m",
      "\u001b[1;31mKeyError\u001b[0m                                  Traceback (most recent call last)",
      "\u001b[1;32m<ipython-input-8-c0b0a839b338>\u001b[0m in \u001b[0;36m<module>\u001b[1;34m\u001b[0m\n\u001b[1;32m----> 1\u001b[1;33m df = df.drop(columns=['EngineHP',\n\u001b[0m\u001b[0;32m      2\u001b[0m                       \u001b[1;34m'msrp'\u001b[0m\u001b[1;33m,\u001b[0m\u001b[1;33m\u001b[0m\u001b[1;33m\u001b[0m\u001b[0m\n\u001b[0;32m      3\u001b[0m                       \u001b[1;34m'BodyClass'\u001b[0m\u001b[1;33m,\u001b[0m\u001b[1;33m\u001b[0m\u001b[1;33m\u001b[0m\u001b[0m\n\u001b[0;32m      4\u001b[0m                       \u001b[1;34m'vin'\u001b[0m\u001b[1;33m,\u001b[0m\u001b[1;33m\u001b[0m\u001b[1;33m\u001b[0m\u001b[0m\n\u001b[0;32m      5\u001b[0m                       \u001b[1;34m'BodyCabType'\u001b[0m\u001b[1;33m,\u001b[0m\u001b[1;33m\u001b[0m\u001b[1;33m\u001b[0m\u001b[0m\n",
      "\u001b[1;32m~\\anaconda3\\lib\\site-packages\\pandas\\core\\frame.py\u001b[0m in \u001b[0;36mdrop\u001b[1;34m(self, labels, axis, index, columns, level, inplace, errors)\u001b[0m\n\u001b[0;32m   4306\u001b[0m                 \u001b[0mweight\u001b[0m  \u001b[1;36m1.0\u001b[0m     \u001b[1;36m0.8\u001b[0m\u001b[1;33m\u001b[0m\u001b[1;33m\u001b[0m\u001b[0m\n\u001b[0;32m   4307\u001b[0m         \"\"\"\n\u001b[1;32m-> 4308\u001b[1;33m         return super().drop(\n\u001b[0m\u001b[0;32m   4309\u001b[0m             \u001b[0mlabels\u001b[0m\u001b[1;33m=\u001b[0m\u001b[0mlabels\u001b[0m\u001b[1;33m,\u001b[0m\u001b[1;33m\u001b[0m\u001b[1;33m\u001b[0m\u001b[0m\n\u001b[0;32m   4310\u001b[0m             \u001b[0maxis\u001b[0m\u001b[1;33m=\u001b[0m\u001b[0maxis\u001b[0m\u001b[1;33m,\u001b[0m\u001b[1;33m\u001b[0m\u001b[1;33m\u001b[0m\u001b[0m\n",
      "\u001b[1;32m~\\anaconda3\\lib\\site-packages\\pandas\\core\\generic.py\u001b[0m in \u001b[0;36mdrop\u001b[1;34m(self, labels, axis, index, columns, level, inplace, errors)\u001b[0m\n\u001b[0;32m   4151\u001b[0m         \u001b[1;32mfor\u001b[0m \u001b[0maxis\u001b[0m\u001b[1;33m,\u001b[0m \u001b[0mlabels\u001b[0m \u001b[1;32min\u001b[0m \u001b[0maxes\u001b[0m\u001b[1;33m.\u001b[0m\u001b[0mitems\u001b[0m\u001b[1;33m(\u001b[0m\u001b[1;33m)\u001b[0m\u001b[1;33m:\u001b[0m\u001b[1;33m\u001b[0m\u001b[1;33m\u001b[0m\u001b[0m\n\u001b[0;32m   4152\u001b[0m             \u001b[1;32mif\u001b[0m \u001b[0mlabels\u001b[0m \u001b[1;32mis\u001b[0m \u001b[1;32mnot\u001b[0m \u001b[1;32mNone\u001b[0m\u001b[1;33m:\u001b[0m\u001b[1;33m\u001b[0m\u001b[1;33m\u001b[0m\u001b[0m\n\u001b[1;32m-> 4153\u001b[1;33m                 \u001b[0mobj\u001b[0m \u001b[1;33m=\u001b[0m \u001b[0mobj\u001b[0m\u001b[1;33m.\u001b[0m\u001b[0m_drop_axis\u001b[0m\u001b[1;33m(\u001b[0m\u001b[0mlabels\u001b[0m\u001b[1;33m,\u001b[0m \u001b[0maxis\u001b[0m\u001b[1;33m,\u001b[0m \u001b[0mlevel\u001b[0m\u001b[1;33m=\u001b[0m\u001b[0mlevel\u001b[0m\u001b[1;33m,\u001b[0m \u001b[0merrors\u001b[0m\u001b[1;33m=\u001b[0m\u001b[0merrors\u001b[0m\u001b[1;33m)\u001b[0m\u001b[1;33m\u001b[0m\u001b[1;33m\u001b[0m\u001b[0m\n\u001b[0m\u001b[0;32m   4154\u001b[0m \u001b[1;33m\u001b[0m\u001b[0m\n\u001b[0;32m   4155\u001b[0m         \u001b[1;32mif\u001b[0m \u001b[0minplace\u001b[0m\u001b[1;33m:\u001b[0m\u001b[1;33m\u001b[0m\u001b[1;33m\u001b[0m\u001b[0m\n",
      "\u001b[1;32m~\\anaconda3\\lib\\site-packages\\pandas\\core\\generic.py\u001b[0m in \u001b[0;36m_drop_axis\u001b[1;34m(self, labels, axis, level, errors)\u001b[0m\n\u001b[0;32m   4186\u001b[0m                 \u001b[0mnew_axis\u001b[0m \u001b[1;33m=\u001b[0m \u001b[0maxis\u001b[0m\u001b[1;33m.\u001b[0m\u001b[0mdrop\u001b[0m\u001b[1;33m(\u001b[0m\u001b[0mlabels\u001b[0m\u001b[1;33m,\u001b[0m \u001b[0mlevel\u001b[0m\u001b[1;33m=\u001b[0m\u001b[0mlevel\u001b[0m\u001b[1;33m,\u001b[0m \u001b[0merrors\u001b[0m\u001b[1;33m=\u001b[0m\u001b[0merrors\u001b[0m\u001b[1;33m)\u001b[0m\u001b[1;33m\u001b[0m\u001b[1;33m\u001b[0m\u001b[0m\n\u001b[0;32m   4187\u001b[0m             \u001b[1;32melse\u001b[0m\u001b[1;33m:\u001b[0m\u001b[1;33m\u001b[0m\u001b[1;33m\u001b[0m\u001b[0m\n\u001b[1;32m-> 4188\u001b[1;33m                 \u001b[0mnew_axis\u001b[0m \u001b[1;33m=\u001b[0m \u001b[0maxis\u001b[0m\u001b[1;33m.\u001b[0m\u001b[0mdrop\u001b[0m\u001b[1;33m(\u001b[0m\u001b[0mlabels\u001b[0m\u001b[1;33m,\u001b[0m \u001b[0merrors\u001b[0m\u001b[1;33m=\u001b[0m\u001b[0merrors\u001b[0m\u001b[1;33m)\u001b[0m\u001b[1;33m\u001b[0m\u001b[1;33m\u001b[0m\u001b[0m\n\u001b[0m\u001b[0;32m   4189\u001b[0m             \u001b[0mresult\u001b[0m \u001b[1;33m=\u001b[0m \u001b[0mself\u001b[0m\u001b[1;33m.\u001b[0m\u001b[0mreindex\u001b[0m\u001b[1;33m(\u001b[0m\u001b[1;33m**\u001b[0m\u001b[1;33m{\u001b[0m\u001b[0maxis_name\u001b[0m\u001b[1;33m:\u001b[0m \u001b[0mnew_axis\u001b[0m\u001b[1;33m}\u001b[0m\u001b[1;33m)\u001b[0m\u001b[1;33m\u001b[0m\u001b[1;33m\u001b[0m\u001b[0m\n\u001b[0;32m   4190\u001b[0m \u001b[1;33m\u001b[0m\u001b[0m\n",
      "\u001b[1;32m~\\anaconda3\\lib\\site-packages\\pandas\\core\\indexes\\base.py\u001b[0m in \u001b[0;36mdrop\u001b[1;34m(self, labels, errors)\u001b[0m\n\u001b[0;32m   5589\u001b[0m         \u001b[1;32mif\u001b[0m \u001b[0mmask\u001b[0m\u001b[1;33m.\u001b[0m\u001b[0many\u001b[0m\u001b[1;33m(\u001b[0m\u001b[1;33m)\u001b[0m\u001b[1;33m:\u001b[0m\u001b[1;33m\u001b[0m\u001b[1;33m\u001b[0m\u001b[0m\n\u001b[0;32m   5590\u001b[0m             \u001b[1;32mif\u001b[0m \u001b[0merrors\u001b[0m \u001b[1;33m!=\u001b[0m \u001b[1;34m\"ignore\"\u001b[0m\u001b[1;33m:\u001b[0m\u001b[1;33m\u001b[0m\u001b[1;33m\u001b[0m\u001b[0m\n\u001b[1;32m-> 5591\u001b[1;33m                 \u001b[1;32mraise\u001b[0m \u001b[0mKeyError\u001b[0m\u001b[1;33m(\u001b[0m\u001b[1;34mf\"{labels[mask]} not found in axis\"\u001b[0m\u001b[1;33m)\u001b[0m\u001b[1;33m\u001b[0m\u001b[1;33m\u001b[0m\u001b[0m\n\u001b[0m\u001b[0;32m   5592\u001b[0m             \u001b[0mindexer\u001b[0m \u001b[1;33m=\u001b[0m \u001b[0mindexer\u001b[0m\u001b[1;33m[\u001b[0m\u001b[1;33m~\u001b[0m\u001b[0mmask\u001b[0m\u001b[1;33m]\u001b[0m\u001b[1;33m\u001b[0m\u001b[1;33m\u001b[0m\u001b[0m\n\u001b[0;32m   5593\u001b[0m         \u001b[1;32mreturn\u001b[0m \u001b[0mself\u001b[0m\u001b[1;33m.\u001b[0m\u001b[0mdelete\u001b[0m\u001b[1;33m(\u001b[0m\u001b[0mindexer\u001b[0m\u001b[1;33m)\u001b[0m\u001b[1;33m\u001b[0m\u001b[1;33m\u001b[0m\u001b[0m\n",
      "\u001b[1;31mKeyError\u001b[0m: \"['EngineHP' 'msrp' 'BodyClass' 'vin' 'BodyCabType' 'color'\\n 'TransmissionStyle' 'Make' 'Model' 'Doors' 'EngineCylinders'\\n 'FuelTypePrimary'] not found in axis\""
     ]
    }
   ],
   "source": [
    "df = df.drop(columns=['EngineHP',\n",
    "                      'msrp',\n",
    "                      'BodyClass',\n",
    "                      'vin',\n",
    "                      'BodyCabType',\n",
    "                      'color',\n",
    "                      'TransmissionStyle',\n",
    "                      'Make',\n",
    "                      'Model',\n",
    "                      'Doors',\n",
    "                      'EngineCylinders',\n",
    "                      'FuelTypePrimary',\n",
    "                     ])"
   ]
  },
  {
   "cell_type": "code",
   "execution_count": 9,
   "id": "6f160467",
   "metadata": {},
   "outputs": [
    {
     "data": {
      "text/html": [
       "<div>\n",
       "<style scoped>\n",
       "    .dataframe tbody tr th:only-of-type {\n",
       "        vertical-align: middle;\n",
       "    }\n",
       "\n",
       "    .dataframe tbody tr th {\n",
       "        vertical-align: top;\n",
       "    }\n",
       "\n",
       "    .dataframe thead th {\n",
       "        text-align: right;\n",
       "    }\n",
       "</style>\n",
       "<table border=\"1\" class=\"dataframe\">\n",
       "  <thead>\n",
       "    <tr style=\"text-align: right;\">\n",
       "      <th></th>\n",
       "      <th>ModelID</th>\n",
       "      <th>ModelYear</th>\n",
       "      <th>mileage</th>\n",
       "      <th>askprice</th>\n",
       "    </tr>\n",
       "  </thead>\n",
       "  <tbody>\n",
       "    <tr>\n",
       "      <th>18</th>\n",
       "      <td>1782.0</td>\n",
       "      <td>2015.0</td>\n",
       "      <td>67588</td>\n",
       "      <td>16462</td>\n",
       "    </tr>\n",
       "    <tr>\n",
       "      <th>31</th>\n",
       "      <td>3678.0</td>\n",
       "      <td>2015.0</td>\n",
       "      <td>32990</td>\n",
       "      <td>59962</td>\n",
       "    </tr>\n",
       "    <tr>\n",
       "      <th>46</th>\n",
       "      <td>1878.0</td>\n",
       "      <td>2017.0</td>\n",
       "      <td>9231</td>\n",
       "      <td>23962</td>\n",
       "    </tr>\n",
       "    <tr>\n",
       "      <th>50</th>\n",
       "      <td>1790.0</td>\n",
       "      <td>2016.0</td>\n",
       "      <td>19710</td>\n",
       "      <td>22962</td>\n",
       "    </tr>\n",
       "    <tr>\n",
       "      <th>53</th>\n",
       "      <td>3267.0</td>\n",
       "      <td>2011.0</td>\n",
       "      <td>92053</td>\n",
       "      <td>5962</td>\n",
       "    </tr>\n",
       "  </tbody>\n",
       "</table>\n",
       "</div>"
      ],
      "text/plain": [
       "    ModelID  ModelYear  mileage  askprice\n",
       "18   1782.0     2015.0    67588     16462\n",
       "31   3678.0     2015.0    32990     59962\n",
       "46   1878.0     2017.0     9231     23962\n",
       "50   1790.0     2016.0    19710     22962\n",
       "53   3267.0     2011.0    92053      5962"
      ]
     },
     "execution_count": 9,
     "metadata": {},
     "output_type": "execute_result"
    }
   ],
   "source": [
    "df.head()"
   ]
  },
  {
   "cell_type": "code",
   "execution_count": 10,
   "id": "c4aee2a5",
   "metadata": {
    "scrolled": true
   },
   "outputs": [
    {
     "data": {
      "text/plain": [
       "ModelID      504998\n",
       "ModelYear    505058\n",
       "mileage      505058\n",
       "askprice     505058\n",
       "dtype: int64"
      ]
     },
     "execution_count": 10,
     "metadata": {},
     "output_type": "execute_result"
    }
   ],
   "source": [
    "df.count()"
   ]
  },
  {
   "cell_type": "code",
   "execution_count": 11,
   "id": "12675fda",
   "metadata": {},
   "outputs": [],
   "source": [
    "df = df.dropna(how='any')"
   ]
  },
  {
   "cell_type": "code",
   "execution_count": 12,
   "id": "c2ec27b6",
   "metadata": {
    "scrolled": false
   },
   "outputs": [
    {
     "data": {
      "text/plain": [
       "ModelID      504998\n",
       "ModelYear    504998\n",
       "mileage      504998\n",
       "askprice     504998\n",
       "dtype: int64"
      ]
     },
     "execution_count": 12,
     "metadata": {},
     "output_type": "execute_result"
    }
   ],
   "source": [
    "df.count()"
   ]
  },
  {
   "cell_type": "code",
   "execution_count": 27,
   "id": "e018f026",
   "metadata": {},
   "outputs": [],
   "source": [
    "df_sample = df.sample(n=50000,random_state = 42)"
   ]
  },
  {
   "cell_type": "code",
   "execution_count": 42,
   "id": "e2781fb1",
   "metadata": {},
   "outputs": [],
   "source": [
    "X = df.drop(columns=['askprice'])\n",
    "y = df['askprice']"
   ]
  },
  {
   "cell_type": "code",
   "execution_count": 43,
   "id": "0ed98bb4",
   "metadata": {},
   "outputs": [],
   "source": [
    "X_train, X_test, y_train, y_test = train_test_split(X, y, random_state=12)"
   ]
  },
  {
   "cell_type": "code",
   "execution_count": 44,
   "id": "2b946b03",
   "metadata": {},
   "outputs": [],
   "source": [
    "X_train_dummies = pd.get_dummies(X_train,drop_first=True)"
   ]
  },
  {
   "cell_type": "code",
   "execution_count": 45,
   "id": "3a7204ab",
   "metadata": {},
   "outputs": [],
   "source": [
    "X_test_dummies = pd.get_dummies(X_test,drop_first=True)"
   ]
  },
  {
   "cell_type": "code",
   "execution_count": 46,
   "id": "85bbabec",
   "metadata": {},
   "outputs": [
    {
     "name": "stdout",
     "output_type": "stream",
     "text": [
      "number of Test_dummies columns -> 3 \n",
      "number of Train_dummies columns -> 3 \n"
     ]
    }
   ],
   "source": [
    "# compare columns in Dataframes\n",
    "print(f'number of Test_dummies columns -> {len(X_test_dummies.columns)} ')\n",
    "print(f'number of Train_dummies columns -> {len(X_train_dummies.columns)} ')"
   ]
  },
  {
   "cell_type": "code",
   "execution_count": 47,
   "id": "ecc1c070",
   "metadata": {
    "scrolled": true
   },
   "outputs": [
    {
     "data": {
      "text/plain": [
       "[]"
      ]
     },
     "execution_count": 47,
     "metadata": {},
     "output_type": "execute_result"
    }
   ],
   "source": [
    "# add missing dummy variables to testing set \n",
    "\n",
    "missing_col = []\n",
    "for col in X_train_dummies.columns:\n",
    "    if col not in X_test_dummies:\n",
    "        missing_col.append(col)\n",
    "        X_test_dummies[col] = 0\n",
    "missing_col"
   ]
  },
  {
   "cell_type": "code",
   "execution_count": 48,
   "id": "6144cfb2",
   "metadata": {
    "scrolled": true
   },
   "outputs": [
    {
     "name": "stdout",
     "output_type": "stream",
     "text": [
      "number of Test_dummies columns -> 3 \n",
      "number of Train_dummies columns -> 3 \n"
     ]
    }
   ],
   "source": [
    "# compare columns in Dataframes\n",
    "print(f'number of Test_dummies columns -> {len(X_test_dummies.columns)} ')\n",
    "print(f'number of Train_dummies columns -> {len(X_train_dummies.columns)} ')"
   ]
  },
  {
   "cell_type": "code",
   "execution_count": 49,
   "id": "b4d92d5c",
   "metadata": {
    "scrolled": true
   },
   "outputs": [
    {
     "data": {
      "text/plain": [
       "[]"
      ]
     },
     "execution_count": 49,
     "metadata": {},
     "output_type": "execute_result"
    }
   ],
   "source": [
    "missing_col = [] \n",
    "for col in X_test_dummies.columns:\n",
    "    if col not in X_train_dummies:\n",
    "        missing_col.append(col)\n",
    "        X_train_dummies[col] = 0\n",
    "missing_col"
   ]
  },
  {
   "cell_type": "code",
   "execution_count": 50,
   "id": "6f51cf3d",
   "metadata": {
    "scrolled": true
   },
   "outputs": [
    {
     "name": "stdout",
     "output_type": "stream",
     "text": [
      "number of Test_dummies columns -> 3 \n",
      "number of Train_dummies columns -> 3 \n"
     ]
    }
   ],
   "source": [
    "# compare columns in Dataframes\n",
    "print(f'number of Test_dummies columns -> {len(X_test_dummies.columns)} ')\n",
    "print(f'number of Train_dummies columns -> {len(X_train_dummies.columns)} ')"
   ]
  },
  {
   "cell_type": "code",
   "execution_count": 51,
   "id": "b8706346",
   "metadata": {},
   "outputs": [],
   "source": [
    "# Create a StandardScaler() model and fit it to the training data\n",
    "\n",
    "X_scaler = StandardScaler().fit(X_train_dummies)"
   ]
  },
  {
   "cell_type": "code",
   "execution_count": 52,
   "id": "c5a1d808",
   "metadata": {},
   "outputs": [],
   "source": [
    " # Transform the training and testing data by using the X_scaler and y_scaler models\n",
    "\n",
    "X_train_scaled = X_scaler.transform(X_train_dummies)\n",
    "X_test_scaled = X_scaler.transform(X_test_dummies)"
   ]
  },
  {
   "cell_type": "code",
   "execution_count": 53,
   "id": "c3006bbf",
   "metadata": {},
   "outputs": [
    {
     "name": "stdout",
     "output_type": "stream",
     "text": [
      "k: 1, Train/Test Score: 0.959/0.770\n",
      "k: 3, Train/Test Score: 0.817/0.594\n",
      "k: 5, Train/Test Score: 0.678/0.498\n",
      "k: 7, Train/Test Score: 0.583/0.434\n",
      "k: 9, Train/Test Score: 0.510/0.377\n",
      "k: 11, Train/Test Score: 0.451/0.327\n",
      "k: 13, Train/Test Score: 0.403/0.285\n",
      "k: 15, Train/Test Score: 0.362/0.252\n",
      "k: 17, Train/Test Score: 0.330/0.225\n",
      "k: 19, Train/Test Score: 0.304/0.203\n"
     ]
    },
    {
     "data": {
      "image/png": "[encoded data removed]",
      "text/plain": [
       "<Figure size 1382.4x777.6 with 1 Axes>"
      ]
     },
     "metadata": {
      "needs_background": "light"
     },
     "output_type": "display_data"
    }
   ],
   "source": [
    "# Loop through different k values to find which has the highest accuracy.\n",
    "# Note: We use only odd numbers because we don't want any ties.\n",
    "train_scores = []\n",
    "test_scores = []\n",
    "for k in range(1, 20, 2):\n",
    "    knn = KNeighborsClassifier(n_neighbors=k)\n",
    "    knn.fit(X_train_scaled, y_train)\n",
    "    train_score = knn.score(X_train_scaled, y_train)\n",
    "    test_score = knn.score(X_test_scaled, y_test)\n",
    "    train_scores.append(train_score)\n",
    "    test_scores.append(test_score)\n",
    "    print(f\"k: {k}, Train/Test Score: {train_score:.3f}/{test_score:.3f}\")\n",
    "    \n",
    "\n",
    "fig = plt.figure(figsize = (19.20,10.80))\n",
    "\n",
    "plt.plot(range(1, 20, 2), train_scores, marker='o')\n",
    "plt.plot(range(1, 20, 2), test_scores, marker=\"x\")\n",
    "plt.xlabel(\"k neighbors\")\n",
    "plt.ylabel(\"Testing accuracy Score\")\n",
    "plt.grid()\n",
    "plt.show()"
   ]
  },
  {
   "cell_type": "code",
   "execution_count": 54,
   "id": "8ca3d338",
   "metadata": {},
   "outputs": [
    {
     "name": "stdout",
     "output_type": "stream",
     "text": [
      "k=3 Test Acc: 0.594\n"
     ]
    }
   ],
   "source": [
    " # Note that k: 5 provides the best accuracy where the classifier starts to stablize\n",
    "knn = KNeighborsClassifier(n_neighbors=3)\n",
    "knn.fit(X_train_scaled, y_train)\n",
    "print('k=3 Test Acc: %.3f' % knn.score(X_test_scaled, y_test))"
   ]
  },
  {
   "cell_type": "code",
   "execution_count": null,
   "id": "b30be71a",
   "metadata": {},
   "outputs": [],
   "source": []
  }
 ],
 "metadata": {
  "kernelspec": {
   "display_name": "Python 3",
   "language": "python",
   "name": "python3"
  },
  "language_info": {
   "codemirror_mode": {
    "name": "ipython",
    "version": 3
   },
   "file_extension": ".py",
   "mimetype": "text/x-python",
   "name": "python",
   "nbconvert_exporter": "python",
   "pygments_lexer": "ipython3",
   "version": "3.8.12"
  }
 },
 "nbformat": 4,
 "nbformat_minor": 5
}
