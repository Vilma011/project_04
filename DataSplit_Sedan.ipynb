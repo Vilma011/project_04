{
 "cells": [
  {
   "cell_type": "markdown",
   "id": "c23f3029",
   "metadata": {},
   "source": [
    "# Illinois PickUp Truck Analysis: 2018-2020"
   ]
  },
  {
   "cell_type": "code",
   "execution_count": 4,
   "id": "4e50002c",
   "metadata": {},
   "outputs": [
    {
     "data": {
      "text/plain": [
       "'c:\\\\Users\\\\vicky\\\\Downloads\\\\project_04-main\\\\project_04-main\\\\depreciated_ipynb'"
      ]
     },
     "execution_count": 4,
     "metadata": {},
     "output_type": "execute_result"
    }
   ],
   "source": [
    "# Dependencies and Setup\n",
    "import matplotlib.pyplot as plt\n",
    "import pandas as pd\n",
    "import numpy as np\n",
    "import requests\n",
    "import time\n",
    "import os\n",
    "from sklearn.model_selection import train_test_split\n",
    "from sklearn.linear_model import LinearRegression\n",
    "from sklearn.metrics import r2_score\n",
    "os.getcwd()"
   ]
  },
  {
   "cell_type": "code",
   "execution_count": null,
   "id": "6de2e4f8",
   "metadata": {},
   "outputs": [],
   "source": []
  },
  {
   "cell_type": "code",
   "execution_count": 5,
   "id": "db247c93",
   "metadata": {},
   "outputs": [],
   "source": [
    "infile = '..//../personal_projects/CIS_automotive_data/Chunk Dataframes/Chunks/CIS_Data'\n",
    "outfile = 'chunk_sedan/sedan_chunk_'\n"
   ]
  },
  {
   "cell_type": "code",
   "execution_count": null,
   "id": "839a0916",
   "metadata": {},
   "outputs": [],
   "source": []
  },
  {
   "cell_type": "code",
   "execution_count": null,
   "id": "bf90d782",
   "metadata": {},
   "outputs": [],
   "source": [
    "cols_to_keep =['vf_BodyClass',\n",
    "               'vf_Make',\n",
    "               'vf_MakeID',\n",
    "               'vf_Model',\n",
    "               'vf_ModelID',\n",
    "               'vf_ModelYear',\n",
    "               'mileage',\n",
    "               'askPrice',\n",
    "               'msrp',\n",
    "               'color',\n",
    "               'interiorColor',\n",
    "               'vf_BodyCabType',\n",
    "               'vf_Doors',\n",
    "               'vf_EngineCylinders',\n",
    "               'vf_EngineHP',\n",
    "               'vf_FuelTypePrimary',\n",
    "               'vf_FuelTypeSecondary',\n",
    "               'vf_Series',\n",
    "               'vf_Series2',\n",
    "               'vf_SteeringLocation',\n",
    "               'vf_TransmissionStyle',\n",
    "               'vf_Trim',\n",
    "               'vf_Trim2',\n",
    "               'vf_Turbo',\n",
    "               'vin'\n",
    "               ]\n",
    "\n",
    "for x in range(1,13):\n",
    "    print(f'Proccessing File {x} of 12')\n",
    "    file_in = f'{infile}{x}.csv'\n",
    "    file_out = f'{outfile}{x}.csv'\n",
    "    df1 = pd.read_csv(file_in, low_memory=False)\n",
    "    df2 = df1.loc[:,cols_to_keep]\n",
    "    df3 = df2.loc[(df2['vf_BodyClass']=='Sedan/Saloon')&(df2['mileage']>=1000)]\n",
    "    df3.to_csv(file_out,index=False,header=True)\n",
    "    print(f'Task {x} of 12 Completed. '+str(len(df3['vin']))+' Records Were Saved')\n",
    "    "
   ]
  },
  {
   "cell_type": "code",
   "execution_count": null,
   "id": "8a16bafb",
   "metadata": {},
   "outputs": [],
   "source": []
  },
  {
   "cell_type": "code",
   "execution_count": null,
   "id": "95acfae5",
   "metadata": {},
   "outputs": [],
   "source": [
    "file = f'{outfile}1.csv'\n",
    "df1 = pd.read_csv(file)\n",
    "\n",
    "file = f'{outfile}2.csv'\n",
    "df2 = pd.read_csv(file)\n",
    "\n",
    "file = f'{outfile}3.csv'\n",
    "df3 = pd.read_csv(file)\n",
    "\n",
    "file = f'{outfile}4.csv'\n",
    "df4 = pd.read_csv(file)\n",
    "\n",
    "file = f'{outfile}5.csv'\n",
    "df5 = pd.read_csv(file)\n",
    "\n",
    "file = f'{outfile}6.csv'\n",
    "df6 = pd.read_csv(file)\n",
    "\n",
    "file = f'{outfile}7.csv'\n",
    "df7 = pd.read_csv(file)\n",
    "\n",
    "file = f'{outfile}8.csv'\n",
    "df8 = pd.read_csv(file)\n",
    "\n",
    "file = f'{outfile}9.csv'\n",
    "df9 = pd.read_csv(file)\n",
    "\n",
    "file = f'{outfile}10.csv'\n",
    "df10 = pd.read_csv(file)\n",
    "\n",
    "file = f'{outfile}11.csv'\n",
    "df11 = pd.read_csv(file)\n",
    "\n",
    "file = f'{outfile}12.csv'\n",
    "df12 = pd.read_csv(file)"
   ]
  },
  {
   "cell_type": "code",
   "execution_count": null,
   "id": "65a7dd80",
   "metadata": {},
   "outputs": [],
   "source": [
    "frames = [df1, df2, df3, df4, df5, df6, df7, df8, df9, df10, df11, df12]\n",
    "concat_df = pd.concat(frames)\n",
    "file_out = f'{outfile}total.csv'\n",
    "concat_df.to_csv(file_out,index=False,header=True)\n"
   ]
  },
  {
   "cell_type": "markdown",
   "id": "38797093",
   "metadata": {},
   "source": [
    "## Chunk Size CSV Splitting Code\n",
    "\n",
    "import pandas as pd\n",
    "\n",
    "chunk_size = 500000\n",
    "batch_no = 1\n",
    "\n",
    "for chunk in pd.read_csv('SMU_DATA\\csv\\CIS_Automotive_Kaggle_Sample.csv', chunksize=chunk_size):\n",
    "    chunk.to_csv('SMU_DATA\\csv\\CIS_Data'+str(batch_no)+'.csv', index=False)\n",
    "    batch_no+=1\n",
    "    "
   ]
  },
  {
   "cell_type": "code",
   "execution_count": null,
   "id": "17cf84f6",
   "metadata": {},
   "outputs": [],
   "source": []
  }
 ],
 "metadata": {
  "kernelspec": {
   "display_name": "Python 3",
   "language": "python",
   "name": "python3"
  },
  "language_info": {
   "codemirror_mode": {
    "name": "ipython",
    "version": 3
   },
   "file_extension": ".py",
   "mimetype": "text/x-python",
   "name": "python",
   "nbconvert_exporter": "python",
   "pygments_lexer": "ipython3",
   "version": "3.8.12"
  }
 },
 "nbformat": 4,
 "nbformat_minor": 5
}
